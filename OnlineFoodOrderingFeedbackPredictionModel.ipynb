{
 "cells": [
  {
   "cell_type": "markdown",
   "id": "a132dc34",
   "metadata": {},
   "source": [
    "## Online Yemek Siparişi Geri Bildirim Tahmin Modeli (Online Food Ordering Feedback Prediction Model)"
   ]
  },
  {
   "cell_type": "markdown",
   "id": "42e8fa24",
   "metadata": {},
   "source": [
    "### Kütüphaneleri yükleme\n"
   ]
  },
  {
   "cell_type": "code",
   "execution_count": 43,
   "id": "21b84fc1",
   "metadata": {},
   "outputs": [],
   "source": [
    "import pandas as pd\n",
    "import numpy as np\n",
    "import seaborn as sns\n",
    "import matplotlib.pyplot as plt\n",
    "import tensorflow as tf\n",
    "from tensorflow.keras.models import Sequential\n",
    "from tensorflow.keras.layers import Dense, Dropout, BatchNormalization\n",
    "from sklearn.model_selection import train_test_split\n",
    "from sklearn.preprocessing import StandardScaler, OneHotEncoder, LabelEncoder\n",
    "from sklearn.metrics import accuracy_score, classification_report\n",
    "import warnings\n",
    "\n",
    "warnings.filterwarnings('ignore')"
   ]
  },
  {
   "cell_type": "markdown",
   "id": "cd11bcbe",
   "metadata": {},
   "source": [
    "### Veri seti yükleme ve ön işleme"
   ]
  },
  {
   "cell_type": "code",
   "execution_count": 44,
   "id": "12825f4a",
   "metadata": {},
   "outputs": [],
   "source": [
    "df = pd.read_csv('OnlineFoodOrderCustomerData.csv')  # Veri setini yükleme\n",
    "df.rename(columns={'Output': 'state_of_order'}, inplace=True)  # 'Output' sütununu 'state_of_order' olarak yeniden adlandırma\n",
    "df = df.drop('Unnamed: 12', axis=1)  # 'Unnamed: 12' sütununu kaldırma\n",
    "df['Monthly Income'] = df['Monthly Income'].str.replace('.', '', regex=False)  # 'Monthly Income' sütunundaki noktalama işaretlerini kaldırma\n",
    "df['Educational Qualifications'] = df['Educational Qualifications'].str.replace('.', '', regex=False)  # 'Educational Qualifications' sütunundaki noktalama işaretlerini kaldırma\n",
    "df = df.drop_duplicates()  # Tekrar eden satırları kaldırma"
   ]
  },
  {
   "cell_type": "markdown",
   "id": "ca69be52",
   "metadata": {},
   "source": [
    "### Özellik ve hedef değişkenleri ayırma"
   ]
  },
  {
   "cell_type": "code",
   "execution_count": 45,
   "id": "c7070510",
   "metadata": {},
   "outputs": [],
   "source": [
    "X = df.drop(['Feedback'], axis=1)  # Geri bildirim sütununu hedef olarak ayırma\n",
    "y_feedback = df['Feedback']"
   ]
  },
  {
   "cell_type": "markdown",
   "id": "003fb718",
   "metadata": {},
   "source": [
    "### 'Feedback' sütununu etiket kodlama ile sayısal değerlere dönüştürme"
   ]
  },
  {
   "cell_type": "code",
   "execution_count": 46,
   "id": "aced1a78",
   "metadata": {},
   "outputs": [],
   "source": [
    "label_encoder = LabelEncoder()\n",
    "y_feedback_encoded = label_encoder.fit_transform(y_feedback)"
   ]
  },
  {
   "cell_type": "markdown",
   "id": "af2df789",
   "metadata": {},
   "source": [
    "### Sayısal ve kategorik özellikleri belirleme"
   ]
  },
  {
   "cell_type": "code",
   "execution_count": 47,
   "id": "1d97c8ab",
   "metadata": {},
   "outputs": [],
   "source": [
    "numeric_features = ['Age', 'Family size', 'Pin code', 'longitude', 'latitude']\n",
    "categorical_features = ['Gender', 'Marital Status', 'Occupation', 'Monthly Income', 'Educational Qualifications', 'state_of_order']"
   ]
  },
  {
   "cell_type": "markdown",
   "id": "d8533464",
   "metadata": {},
   "source": [
    "### Sayısal özellikleri ölçeklendirme"
   ]
  },
  {
   "cell_type": "code",
   "execution_count": 48,
   "id": "0eed5917",
   "metadata": {},
   "outputs": [],
   "source": [
    "scaler = StandardScaler()\n",
    "X_numeric = scaler.fit_transform(X[numeric_features])"
   ]
  },
  {
   "cell_type": "markdown",
   "id": "3812815c",
   "metadata": {},
   "source": [
    "### Kategorik özellikleri one-hot encoding ile dönüştürme"
   ]
  },
  {
   "cell_type": "code",
   "execution_count": 49,
   "id": "f06fcf07",
   "metadata": {},
   "outputs": [],
   "source": [
    "encoder = OneHotEncoder(sparse_output=False)\n",
    "X_categorical = encoder.fit_transform(X[categorical_features])"
   ]
  },
  {
   "cell_type": "markdown",
   "id": "d83ff562",
   "metadata": {},
   "source": [
    "### Sayısal ve kategorik özellikleri birleştirme"
   ]
  },
  {
   "cell_type": "code",
   "execution_count": 50,
   "id": "57dd3a46",
   "metadata": {},
   "outputs": [],
   "source": [
    "X_processed = np.hstack((X_numeric, X_categorical))"
   ]
  },
  {
   "cell_type": "markdown",
   "id": "12c57512",
   "metadata": {},
   "source": [
    "### Eğitim ve test verilerine bölme"
   ]
  },
  {
   "cell_type": "code",
   "execution_count": 51,
   "id": "1d0a513c",
   "metadata": {},
   "outputs": [],
   "source": [
    "X_train, X_test, y_train_feedback, y_test_feedback = train_test_split(X_processed, y_feedback_encoded, test_size=0.2, random_state=42)"
   ]
  },
  {
   "cell_type": "markdown",
   "id": "1ae951c3",
   "metadata": {},
   "source": [
    "### Derin öğrenme modeli yapısı"
   ]
  },
  {
   "cell_type": "code",
   "execution_count": 52,
   "id": "9e329c49",
   "metadata": {},
   "outputs": [],
   "source": [
    "def build_model(output_units, output_activation):\n",
    "    model = Sequential([\n",
    "        Dense(128, activation='relu', input_shape=(X_train.shape[1],)),\n",
    "        BatchNormalization(),\n",
    "        Dropout(0.3),\n",
    "        Dense(64, activation='relu'),\n",
    "        BatchNormalization(),\n",
    "        Dropout(0.3),\n",
    "        Dense(output_units, activation=output_activation)\n",
    "    ])\n",
    "    # Modeli derleme\n",
    "    model.compile(\n",
    "        optimizer='adam', \n",
    "        loss='binary_crossentropy' if output_units == 1 and output_activation == 'sigmoid' else 'mse',\n",
    "        metrics=['accuracy' if output_units == 1 and output_activation == 'sigmoid' else 'mae']\n",
    "    )\n",
    "    return model"
   ]
  },
  {
   "cell_type": "markdown",
   "id": "d5f9508c",
   "metadata": {},
   "source": [
    "### Online yemek siparişi geri bildirim tahmin modeli"
   ]
  },
  {
   "cell_type": "code",
   "execution_count": 53,
   "id": "d74497ad",
   "metadata": {
    "scrolled": false
   },
   "outputs": [
    {
     "name": "stdout",
     "output_type": "stream",
     "text": [
      "Epoch 1/100\n",
      "6/6 [==============================] - 3s 91ms/step - loss: 0.8111 - accuracy: 0.5275 - val_loss: 0.5869 - val_accuracy: 0.8696\n",
      "Epoch 2/100\n",
      "6/6 [==============================] - 0s 19ms/step - loss: 0.6873 - accuracy: 0.6429 - val_loss: 0.5793 - val_accuracy: 0.8696\n",
      "Epoch 3/100\n",
      "6/6 [==============================] - 0s 22ms/step - loss: 0.6939 - accuracy: 0.6429 - val_loss: 0.5661 - val_accuracy: 0.8913\n",
      "Epoch 4/100\n",
      "6/6 [==============================] - 0s 19ms/step - loss: 0.6910 - accuracy: 0.6538 - val_loss: 0.5526 - val_accuracy: 0.8913\n",
      "Epoch 5/100\n",
      "6/6 [==============================] - 0s 17ms/step - loss: 0.6049 - accuracy: 0.6648 - val_loss: 0.5372 - val_accuracy: 0.8913\n",
      "Epoch 6/100\n",
      "6/6 [==============================] - 0s 20ms/step - loss: 0.6428 - accuracy: 0.6758 - val_loss: 0.5243 - val_accuracy: 0.8913\n",
      "Epoch 7/100\n",
      "6/6 [==============================] - 0s 18ms/step - loss: 0.5928 - accuracy: 0.7143 - val_loss: 0.5135 - val_accuracy: 0.8913\n",
      "Epoch 8/100\n",
      "6/6 [==============================] - 0s 17ms/step - loss: 0.5376 - accuracy: 0.7473 - val_loss: 0.5029 - val_accuracy: 0.8913\n",
      "Epoch 9/100\n",
      "6/6 [==============================] - 0s 20ms/step - loss: 0.5027 - accuracy: 0.7418 - val_loss: 0.4944 - val_accuracy: 0.8913\n",
      "Epoch 10/100\n",
      "6/6 [==============================] - 0s 17ms/step - loss: 0.4673 - accuracy: 0.7912 - val_loss: 0.4851 - val_accuracy: 0.8913\n",
      "Epoch 11/100\n",
      "6/6 [==============================] - 0s 17ms/step - loss: 0.4806 - accuracy: 0.7857 - val_loss: 0.4731 - val_accuracy: 0.8913\n",
      "Epoch 12/100\n",
      "6/6 [==============================] - 0s 17ms/step - loss: 0.4772 - accuracy: 0.8242 - val_loss: 0.4628 - val_accuracy: 0.8478\n",
      "Epoch 13/100\n",
      "6/6 [==============================] - 0s 17ms/step - loss: 0.3904 - accuracy: 0.8242 - val_loss: 0.4504 - val_accuracy: 0.8696\n",
      "Epoch 14/100\n",
      "6/6 [==============================] - 0s 16ms/step - loss: 0.4097 - accuracy: 0.8077 - val_loss: 0.4414 - val_accuracy: 0.8696\n",
      "Epoch 15/100\n",
      "6/6 [==============================] - 0s 16ms/step - loss: 0.3637 - accuracy: 0.8626 - val_loss: 0.4332 - val_accuracy: 0.8696\n",
      "Epoch 16/100\n",
      "6/6 [==============================] - 0s 18ms/step - loss: 0.3430 - accuracy: 0.8681 - val_loss: 0.4219 - val_accuracy: 0.8696\n",
      "Epoch 17/100\n",
      "6/6 [==============================] - 0s 17ms/step - loss: 0.3410 - accuracy: 0.9011 - val_loss: 0.4142 - val_accuracy: 0.8478\n",
      "Epoch 18/100\n",
      "6/6 [==============================] - 0s 19ms/step - loss: 0.3569 - accuracy: 0.8297 - val_loss: 0.4054 - val_accuracy: 0.8478\n",
      "Epoch 19/100\n",
      "6/6 [==============================] - 0s 19ms/step - loss: 0.3484 - accuracy: 0.8791 - val_loss: 0.3964 - val_accuracy: 0.8478\n",
      "Epoch 20/100\n",
      "6/6 [==============================] - 0s 17ms/step - loss: 0.3236 - accuracy: 0.8516 - val_loss: 0.3901 - val_accuracy: 0.8261\n",
      "Epoch 21/100\n",
      "6/6 [==============================] - 0s 18ms/step - loss: 0.3312 - accuracy: 0.8516 - val_loss: 0.3858 - val_accuracy: 0.8261\n",
      "Epoch 22/100\n",
      "6/6 [==============================] - 0s 17ms/step - loss: 0.3071 - accuracy: 0.9011 - val_loss: 0.3820 - val_accuracy: 0.8261\n",
      "Epoch 23/100\n",
      "6/6 [==============================] - 0s 17ms/step - loss: 0.3430 - accuracy: 0.8736 - val_loss: 0.3776 - val_accuracy: 0.8478\n",
      "Epoch 24/100\n",
      "6/6 [==============================] - 0s 15ms/step - loss: 0.3107 - accuracy: 0.8736 - val_loss: 0.3744 - val_accuracy: 0.8478\n",
      "Epoch 25/100\n",
      "6/6 [==============================] - 0s 16ms/step - loss: 0.3325 - accuracy: 0.8626 - val_loss: 0.3673 - val_accuracy: 0.8478\n",
      "Epoch 26/100\n",
      "6/6 [==============================] - 0s 16ms/step - loss: 0.2741 - accuracy: 0.8956 - val_loss: 0.3637 - val_accuracy: 0.8478\n",
      "Epoch 27/100\n",
      "6/6 [==============================] - 0s 17ms/step - loss: 0.3308 - accuracy: 0.8571 - val_loss: 0.3587 - val_accuracy: 0.8478\n",
      "Epoch 28/100\n",
      "6/6 [==============================] - 0s 17ms/step - loss: 0.2530 - accuracy: 0.9176 - val_loss: 0.3523 - val_accuracy: 0.8478\n",
      "Epoch 29/100\n",
      "6/6 [==============================] - 0s 16ms/step - loss: 0.2617 - accuracy: 0.8846 - val_loss: 0.3475 - val_accuracy: 0.8478\n",
      "Epoch 30/100\n",
      "6/6 [==============================] - 0s 17ms/step - loss: 0.2361 - accuracy: 0.9121 - val_loss: 0.3429 - val_accuracy: 0.8478\n",
      "Epoch 31/100\n",
      "6/6 [==============================] - 0s 20ms/step - loss: 0.2310 - accuracy: 0.9231 - val_loss: 0.3411 - val_accuracy: 0.8478\n",
      "Epoch 32/100\n",
      "6/6 [==============================] - 0s 17ms/step - loss: 0.1907 - accuracy: 0.9286 - val_loss: 0.3386 - val_accuracy: 0.8696\n",
      "Epoch 33/100\n",
      "6/6 [==============================] - 0s 18ms/step - loss: 0.2054 - accuracy: 0.9451 - val_loss: 0.3398 - val_accuracy: 0.8696\n",
      "Epoch 34/100\n",
      "6/6 [==============================] - 0s 18ms/step - loss: 0.2212 - accuracy: 0.9286 - val_loss: 0.3429 - val_accuracy: 0.8696\n",
      "Epoch 35/100\n",
      "6/6 [==============================] - 0s 16ms/step - loss: 0.2152 - accuracy: 0.9176 - val_loss: 0.3433 - val_accuracy: 0.8696\n",
      "Epoch 36/100\n",
      "6/6 [==============================] - 0s 19ms/step - loss: 0.1983 - accuracy: 0.9341 - val_loss: 0.3423 - val_accuracy: 0.8696\n",
      "Epoch 37/100\n",
      "6/6 [==============================] - 0s 17ms/step - loss: 0.2055 - accuracy: 0.9231 - val_loss: 0.3412 - val_accuracy: 0.8696\n",
      "Epoch 38/100\n",
      "6/6 [==============================] - 0s 21ms/step - loss: 0.2131 - accuracy: 0.9396 - val_loss: 0.3408 - val_accuracy: 0.8696\n",
      "Epoch 39/100\n",
      "6/6 [==============================] - 0s 17ms/step - loss: 0.1689 - accuracy: 0.9396 - val_loss: 0.3405 - val_accuracy: 0.8696\n",
      "Epoch 40/100\n",
      "6/6 [==============================] - 0s 19ms/step - loss: 0.2079 - accuracy: 0.9066 - val_loss: 0.3299 - val_accuracy: 0.8696\n",
      "Epoch 41/100\n",
      "6/6 [==============================] - 0s 20ms/step - loss: 0.1945 - accuracy: 0.9286 - val_loss: 0.3232 - val_accuracy: 0.8696\n",
      "Epoch 42/100\n",
      "6/6 [==============================] - 0s 17ms/step - loss: 0.1788 - accuracy: 0.9451 - val_loss: 0.3174 - val_accuracy: 0.8696\n",
      "Epoch 43/100\n",
      "6/6 [==============================] - 0s 19ms/step - loss: 0.1512 - accuracy: 0.9725 - val_loss: 0.3161 - val_accuracy: 0.8696\n",
      "Epoch 44/100\n",
      "6/6 [==============================] - 0s 20ms/step - loss: 0.1525 - accuracy: 0.9451 - val_loss: 0.3214 - val_accuracy: 0.8696\n",
      "Epoch 45/100\n",
      "6/6 [==============================] - 0s 17ms/step - loss: 0.1767 - accuracy: 0.9286 - val_loss: 0.3241 - val_accuracy: 0.8696\n",
      "Epoch 46/100\n",
      "6/6 [==============================] - 0s 17ms/step - loss: 0.1230 - accuracy: 0.9670 - val_loss: 0.3278 - val_accuracy: 0.8696\n",
      "Epoch 47/100\n",
      "6/6 [==============================] - 0s 18ms/step - loss: 0.1176 - accuracy: 0.9670 - val_loss: 0.3350 - val_accuracy: 0.8696\n",
      "Epoch 48/100\n",
      "6/6 [==============================] - 0s 19ms/step - loss: 0.1361 - accuracy: 0.9615 - val_loss: 0.3376 - val_accuracy: 0.8696\n",
      "Epoch 49/100\n",
      "6/6 [==============================] - 0s 18ms/step - loss: 0.1547 - accuracy: 0.9396 - val_loss: 0.3414 - val_accuracy: 0.8696\n",
      "Epoch 50/100\n",
      "6/6 [==============================] - 0s 18ms/step - loss: 0.1456 - accuracy: 0.9505 - val_loss: 0.3386 - val_accuracy: 0.8696\n",
      "Epoch 51/100\n",
      "6/6 [==============================] - 0s 17ms/step - loss: 0.1286 - accuracy: 0.9725 - val_loss: 0.3373 - val_accuracy: 0.8696\n",
      "Epoch 52/100\n",
      "6/6 [==============================] - 0s 19ms/step - loss: 0.1010 - accuracy: 0.9615 - val_loss: 0.3361 - val_accuracy: 0.8696\n",
      "Epoch 53/100\n",
      "6/6 [==============================] - 0s 20ms/step - loss: 0.1241 - accuracy: 0.9725 - val_loss: 0.3349 - val_accuracy: 0.8696\n"
     ]
    }
   ],
   "source": [
    "feedback_model = build_model(1, 'sigmoid')\n",
    "feedback_history = feedback_model.fit(\n",
    "    X_train, y_train_feedback, \n",
    "    epochs=100, \n",
    "    batch_size=32, \n",
    "    validation_split=0.2,\n",
    "    callbacks=[tf.keras.callbacks.EarlyStopping(monitor='val_loss', patience=10, restore_best_weights=True)],\n",
    "    verbose=1\n",
    ")"
   ]
  },
  {
   "cell_type": "markdown",
   "id": "68cabd60",
   "metadata": {},
   "source": [
    "### Model performanslarını görselleştirme fonksiyonu"
   ]
  },
  {
   "cell_type": "code",
   "execution_count": 54,
   "id": "297758dc",
   "metadata": {},
   "outputs": [],
   "source": [
    "def plot_history(history, title):\n",
    "    plt.figure(figsize=(14, 6))\n",
    "    \n",
    "    # Eğitim ve doğrulama performansını çizme\n",
    "    plt.subplot(1, 2, 1)\n",
    "    plt.plot(history.history['accuracy'], label='Eğitim')\n",
    "    plt.plot(history.history['val_accuracy'], label='Doğrulama')\n",
    "    plt.title(f'{title} Model Performansı')\n",
    "    plt.xlabel('epochs')\n",
    "    plt.ylabel('Doğruluk')\n",
    "    plt.legend()\n",
    "\n",
    "    # Eğitim ve doğrulama kaybını çizme\n",
    "    plt.subplot(1, 2, 2)\n",
    "    plt.plot(history.history['loss'], label='Eğitim Kaybı')\n",
    "    plt.plot(history.history['val_loss'], label='Doğrulama Kaybı')\n",
    "    plt.title(f'{title} Model Kaybı')\n",
    "    plt.xlabel('epochs')\n",
    "    plt.ylabel('Kayıp')\n",
    "    plt.legend()\n",
    "\n",
    "    plt.show()"
   ]
  },
  {
   "cell_type": "markdown",
   "id": "2c07a225",
   "metadata": {},
   "source": [
    "### Model performanslarını görselleştirme"
   ]
  },
  {
   "cell_type": "code",
   "execution_count": 55,
   "id": "cdfb6c93",
   "metadata": {},
   "outputs": [
    {
     "data": {
      "image/png": "[encoded data removed]",
      "text/plain": [
       "<Figure size 1400x600 with 2 Axes>"
      ]
     },
     "metadata": {},
     "output_type": "display_data"
    }
   ],
   "source": [
    "plot_history(feedback_history, 'Geri Bildirim')\n"
   ]
  },
  {
   "cell_type": "markdown",
   "id": "e4935b38",
   "metadata": {},
   "source": [
    "### Performans yüzdelik doğruluk hesaplama fonksiyonu"
   ]
  },
  {
   "cell_type": "code",
   "execution_count": 56,
   "id": "565f27ad",
   "metadata": {},
   "outputs": [],
   "source": [
    "def calculate_accuracy(y_true, y_pred, is_classification=False):\n",
    "    if is_classification:\n",
    "        accuracy = accuracy_score(y_true, y_pred)\n",
    "        return accuracy * 100\n",
    "    else:\n",
    "        return None"
   ]
  },
  {
   "cell_type": "markdown",
   "id": "a6aae628",
   "metadata": {},
   "source": [
    "### Geri bildirim tahmin sonuçları"
   ]
  },
  {
   "cell_type": "code",
   "execution_count": 57,
   "id": "80849a89",
   "metadata": {},
   "outputs": [
    {
     "name": "stdout",
     "output_type": "stream",
     "text": [
      "2/2 [==============================] - 0s 6ms/step\n"
     ]
    }
   ],
   "source": [
    "y_pred_prob_feedback = feedback_model.predict(X_test)\n",
    "y_pred_feedback_encoded = (y_pred_prob_feedback > 0.5).astype(int).flatten()"
   ]
  },
  {
   "cell_type": "markdown",
   "id": "5d8367a6",
   "metadata": {},
   "source": [
    "### Online yemek siparişi geri bildirim tahmin modelinin doğruluğu "
   ]
  },
  {
   "cell_type": "code",
   "execution_count": 65,
   "id": "4aad8f89",
   "metadata": {},
   "outputs": [
    {
     "name": "stdout",
     "output_type": "stream",
     "text": [
      "Online Yemek Siparişi Geri Bildirim Modeli Doğruluğu: 91.23%\n"
     ]
    }
   ],
   "source": [
    "print(f\"Online Yemek Siparişi Geri Bildirim Modeli Doğruluğu: {calculate_accuracy(y_test_feedback, y_pred_feedback_encoded, is_classification=True):.2f}%\")"
   ]
  },
  {
   "cell_type": "markdown",
   "id": "7b497d81",
   "metadata": {},
   "source": [
    "### Etiket kodlamadan orijinal etiketlere dönüştürme"
   ]
  },
  {
   "cell_type": "code",
   "execution_count": 66,
   "id": "f6de6f1a",
   "metadata": {},
   "outputs": [],
   "source": [
    "y_pred_feedback = label_encoder.inverse_transform(y_pred_feedback_encoded)\n",
    "y_test_feedback_original = label_encoder.inverse_transform(y_test_feedback)"
   ]
  },
  {
   "cell_type": "markdown",
   "id": "00e833bf",
   "metadata": {},
   "source": [
    "### Sınıflandırma raporu"
   ]
  },
  {
   "cell_type": "code",
   "execution_count": 67,
   "id": "fd2d572a",
   "metadata": {},
   "outputs": [
    {
     "name": "stdout",
     "output_type": "stream",
     "text": [
      "              precision    recall  f1-score   support\n",
      "\n",
      "   Negative        0.67      0.57      0.62         7\n",
      "    Positive       0.94      0.96      0.95        50\n",
      "\n",
      "    accuracy                           0.91        57\n",
      "   macro avg       0.80      0.77      0.78        57\n",
      "weighted avg       0.91      0.91      0.91        57\n",
      "\n"
     ]
    }
   ],
   "source": [
    "print(classification_report(y_test_feedback, y_pred_feedback_encoded, target_names=label_encoder.classes_))"
   ]
  },
  {
   "cell_type": "markdown",
   "id": "8edfab41",
   "metadata": {},
   "source": [
    "### Gerçek ve tahmin edilen geri bildirimler"
   ]
  },
  {
   "cell_type": "code",
   "execution_count": 68,
   "id": "28260da3",
   "metadata": {},
   "outputs": [
    {
     "data": {
      "text/html": [
       "<style type=\"text/css\">\n",
       "#T_430b6 td.col1 {\n",
       "  padding-left: 20px;\n",
       "}\n",
       "#T_430b6_row0_col0, #T_430b6_row0_col1, #T_430b6_row1_col0, #T_430b6_row1_col1, #T_430b6_row2_col0, #T_430b6_row2_col1, #T_430b6_row3_col0, #T_430b6_row3_col1, #T_430b6_row4_col0, #T_430b6_row4_col1, #T_430b6_row5_col0, #T_430b6_row5_col1, #T_430b6_row6_col0, #T_430b6_row6_col1, #T_430b6_row7_col0, #T_430b6_row7_col1, #T_430b6_row8_col0, #T_430b6_row8_col1, #T_430b6_row9_col0, #T_430b6_row9_col1, #T_430b6_row10_col0, #T_430b6_row10_col1, #T_430b6_row11_col0, #T_430b6_row11_col1, #T_430b6_row12_col0, #T_430b6_row12_col1, #T_430b6_row13_col0, #T_430b6_row13_col1, #T_430b6_row14_col0, #T_430b6_row14_col1, #T_430b6_row15_col0, #T_430b6_row15_col1, #T_430b6_row16_col0, #T_430b6_row16_col1, #T_430b6_row17_col0, #T_430b6_row17_col1, #T_430b6_row18_col0, #T_430b6_row18_col1, #T_430b6_row19_col0, #T_430b6_row19_col1 {\n",
       "  text-align: left;\n",
       "}\n",
       "</style>\n",
       "<table id=\"T_430b6\">\n",
       "  <thead>\n",
       "    <tr>\n",
       "      <th class=\"blank level0\" >&nbsp;</th>\n",
       "      <th id=\"T_430b6_level0_col0\" class=\"col_heading level0 col0\" >Gerçek Geri Bildirim</th>\n",
       "      <th id=\"T_430b6_level0_col1\" class=\"col_heading level0 col1\" >Tahmin Edilen Geri Bildirim</th>\n",
       "    </tr>\n",
       "  </thead>\n",
       "  <tbody>\n",
       "    <tr>\n",
       "      <th id=\"T_430b6_level0_row0\" class=\"row_heading level0 row0\" >0</th>\n",
       "      <td id=\"T_430b6_row0_col0\" class=\"data row0 col0\" >Positive</td>\n",
       "      <td id=\"T_430b6_row0_col1\" class=\"data row0 col1\" >Positive</td>\n",
       "    </tr>\n",
       "    <tr>\n",
       "      <th id=\"T_430b6_level0_row1\" class=\"row_heading level0 row1\" >1</th>\n",
       "      <td id=\"T_430b6_row1_col0\" class=\"data row1 col0\" >Positive</td>\n",
       "      <td id=\"T_430b6_row1_col1\" class=\"data row1 col1\" >Positive</td>\n",
       "    </tr>\n",
       "    <tr>\n",
       "      <th id=\"T_430b6_level0_row2\" class=\"row_heading level0 row2\" >2</th>\n",
       "      <td id=\"T_430b6_row2_col0\" class=\"data row2 col0\" >Positive</td>\n",
       "      <td id=\"T_430b6_row2_col1\" class=\"data row2 col1\" >Negative </td>\n",
       "    </tr>\n",
       "    <tr>\n",
       "      <th id=\"T_430b6_level0_row3\" class=\"row_heading level0 row3\" >3</th>\n",
       "      <td id=\"T_430b6_row3_col0\" class=\"data row3 col0\" >Negative </td>\n",
       "      <td id=\"T_430b6_row3_col1\" class=\"data row3 col1\" >Negative </td>\n",
       "    </tr>\n",
       "    <tr>\n",
       "      <th id=\"T_430b6_level0_row4\" class=\"row_heading level0 row4\" >4</th>\n",
       "      <td id=\"T_430b6_row4_col0\" class=\"data row4 col0\" >Positive</td>\n",
       "      <td id=\"T_430b6_row4_col1\" class=\"data row4 col1\" >Positive</td>\n",
       "    </tr>\n",
       "    <tr>\n",
       "      <th id=\"T_430b6_level0_row5\" class=\"row_heading level0 row5\" >5</th>\n",
       "      <td id=\"T_430b6_row5_col0\" class=\"data row5 col0\" >Positive</td>\n",
       "      <td id=\"T_430b6_row5_col1\" class=\"data row5 col1\" >Positive</td>\n",
       "    </tr>\n",
       "    <tr>\n",
       "      <th id=\"T_430b6_level0_row6\" class=\"row_heading level0 row6\" >6</th>\n",
       "      <td id=\"T_430b6_row6_col0\" class=\"data row6 col0\" >Positive</td>\n",
       "      <td id=\"T_430b6_row6_col1\" class=\"data row6 col1\" >Positive</td>\n",
       "    </tr>\n",
       "    <tr>\n",
       "      <th id=\"T_430b6_level0_row7\" class=\"row_heading level0 row7\" >7</th>\n",
       "      <td id=\"T_430b6_row7_col0\" class=\"data row7 col0\" >Positive</td>\n",
       "      <td id=\"T_430b6_row7_col1\" class=\"data row7 col1\" >Positive</td>\n",
       "    </tr>\n",
       "    <tr>\n",
       "      <th id=\"T_430b6_level0_row8\" class=\"row_heading level0 row8\" >8</th>\n",
       "      <td id=\"T_430b6_row8_col0\" class=\"data row8 col0\" >Positive</td>\n",
       "      <td id=\"T_430b6_row8_col1\" class=\"data row8 col1\" >Positive</td>\n",
       "    </tr>\n",
       "    <tr>\n",
       "      <th id=\"T_430b6_level0_row9\" class=\"row_heading level0 row9\" >9</th>\n",
       "      <td id=\"T_430b6_row9_col0\" class=\"data row9 col0\" >Negative </td>\n",
       "      <td id=\"T_430b6_row9_col1\" class=\"data row9 col1\" >Positive</td>\n",
       "    </tr>\n",
       "    <tr>\n",
       "      <th id=\"T_430b6_level0_row10\" class=\"row_heading level0 row10\" >10</th>\n",
       "      <td id=\"T_430b6_row10_col0\" class=\"data row10 col0\" >Positive</td>\n",
       "      <td id=\"T_430b6_row10_col1\" class=\"data row10 col1\" >Positive</td>\n",
       "    </tr>\n",
       "    <tr>\n",
       "      <th id=\"T_430b6_level0_row11\" class=\"row_heading level0 row11\" >11</th>\n",
       "      <td id=\"T_430b6_row11_col0\" class=\"data row11 col0\" >Positive</td>\n",
       "      <td id=\"T_430b6_row11_col1\" class=\"data row11 col1\" >Positive</td>\n",
       "    </tr>\n",
       "    <tr>\n",
       "      <th id=\"T_430b6_level0_row12\" class=\"row_heading level0 row12\" >12</th>\n",
       "      <td id=\"T_430b6_row12_col0\" class=\"data row12 col0\" >Positive</td>\n",
       "      <td id=\"T_430b6_row12_col1\" class=\"data row12 col1\" >Negative </td>\n",
       "    </tr>\n",
       "    <tr>\n",
       "      <th id=\"T_430b6_level0_row13\" class=\"row_heading level0 row13\" >13</th>\n",
       "      <td id=\"T_430b6_row13_col0\" class=\"data row13 col0\" >Positive</td>\n",
       "      <td id=\"T_430b6_row13_col1\" class=\"data row13 col1\" >Positive</td>\n",
       "    </tr>\n",
       "    <tr>\n",
       "      <th id=\"T_430b6_level0_row14\" class=\"row_heading level0 row14\" >14</th>\n",
       "      <td id=\"T_430b6_row14_col0\" class=\"data row14 col0\" >Positive</td>\n",
       "      <td id=\"T_430b6_row14_col1\" class=\"data row14 col1\" >Positive</td>\n",
       "    </tr>\n",
       "    <tr>\n",
       "      <th id=\"T_430b6_level0_row15\" class=\"row_heading level0 row15\" >15</th>\n",
       "      <td id=\"T_430b6_row15_col0\" class=\"data row15 col0\" >Positive</td>\n",
       "      <td id=\"T_430b6_row15_col1\" class=\"data row15 col1\" >Positive</td>\n",
       "    </tr>\n",
       "    <tr>\n",
       "      <th id=\"T_430b6_level0_row16\" class=\"row_heading level0 row16\" >16</th>\n",
       "      <td id=\"T_430b6_row16_col0\" class=\"data row16 col0\" >Positive</td>\n",
       "      <td id=\"T_430b6_row16_col1\" class=\"data row16 col1\" >Positive</td>\n",
       "    </tr>\n",
       "    <tr>\n",
       "      <th id=\"T_430b6_level0_row17\" class=\"row_heading level0 row17\" >17</th>\n",
       "      <td id=\"T_430b6_row17_col0\" class=\"data row17 col0\" >Positive</td>\n",
       "      <td id=\"T_430b6_row17_col1\" class=\"data row17 col1\" >Positive</td>\n",
       "    </tr>\n",
       "    <tr>\n",
       "      <th id=\"T_430b6_level0_row18\" class=\"row_heading level0 row18\" >18</th>\n",
       "      <td id=\"T_430b6_row18_col0\" class=\"data row18 col0\" >Positive</td>\n",
       "      <td id=\"T_430b6_row18_col1\" class=\"data row18 col1\" >Positive</td>\n",
       "    </tr>\n",
       "    <tr>\n",
       "      <th id=\"T_430b6_level0_row19\" class=\"row_heading level0 row19\" >19</th>\n",
       "      <td id=\"T_430b6_row19_col0\" class=\"data row19 col0\" >Positive</td>\n",
       "      <td id=\"T_430b6_row19_col1\" class=\"data row19 col1\" >Positive</td>\n",
       "    </tr>\n",
       "  </tbody>\n",
       "</table>\n"
      ],
      "text/plain": [
       "<pandas.io.formats.style.Styler at 0x21c150ce550>"
      ]
     },
     "execution_count": 68,
     "metadata": {},
     "output_type": "execute_result"
    }
   ],
   "source": [
    "feedback_results = pd.DataFrame({\n",
    "    'Gerçek Geri Bildirim': y_test_feedback_original,\n",
    "    'Tahmin Edilen Geri Bildirim': y_pred_feedback\n",
    "})\n",
    "\n",
    "feedback_results_styled = feedback_results.head(20).style.set_properties(**{'text-align': 'left'}).set_table_styles({\n",
    "    'Tahmin Edilen Geri Bildirim': [{'selector': 'td', 'props': [('padding-left', '20px')]}]\n",
    "})\n",
    "\n",
    "feedback_results_styled"
   ]
  }
 ],
 "metadata": {
  "kernelspec": {
   "display_name": "Python 3 (ipykernel)",
   "language": "python",
   "name": "python3"
  },
  "language_info": {
   "codemirror_mode": {
    "name": "ipython",
    "version": 3
   },
   "file_extension": ".py",
   "mimetype": "text/x-python",
   "name": "python",
   "nbconvert_exporter": "python",
   "pygments_lexer": "ipython3",
   "version": "3.11.5"
  }
 },
 "nbformat": 4,
 "nbformat_minor": 5
}
